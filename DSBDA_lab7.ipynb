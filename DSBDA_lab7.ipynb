{
  "nbformat": 4,
  "nbformat_minor": 0,
  "metadata": {
    "colab": {
      "provenance": [],
      "authorship_tag": "ABX9TyOiKjo6dVzJ8rYEeHCJnPYl",
      "include_colab_link": true
    },
    "kernelspec": {
      "name": "python3",
      "display_name": "Python 3"
    },
    "language_info": {
      "name": "python"
    }
  },
  "cells": [
    {
      "cell_type": "markdown",
      "metadata": {
        "id": "view-in-github",
        "colab_type": "text"
      },
      "source": [
        "<a href=\"https://colab.research.google.com/github/shreyamhetre/DSBDA/blob/lab7/DSBDA_lab7.ipynb\" target=\"_parent\"><img src=\"https://colab.research.google.com/assets/colab-badge.svg\" alt=\"Open In Colab\"/></a>"
      ]
    },
    {
      "cell_type": "markdown",
      "source": [
        "Text Analysis for POS tagging, TF-IDF"
      ],
      "metadata": {
        "id": "uCE7wJVSFy38"
      }
    },
    {
      "cell_type": "code",
      "execution_count": 2,
      "metadata": {
        "colab": {
          "base_uri": "https://localhost:8080/"
        },
        "id": "hbw9wO_QFt4V",
        "outputId": "7ed9f7b2-4c5d-4c48-eabc-bf09f2fd81e9"
      },
      "outputs": [
        {
          "output_type": "stream",
          "name": "stderr",
          "text": [
            "[nltk_data] Downloading package punkt to /root/nltk_data...\n",
            "[nltk_data]   Unzipping tokenizers/punkt.zip.\n",
            "[nltk_data] Downloading package stopwords to /root/nltk_data...\n",
            "[nltk_data]   Unzipping corpora/stopwords.zip.\n",
            "[nltk_data] Downloading package wordnet to /root/nltk_data...\n",
            "[nltk_data] Downloading package averaged_perceptron_tagger to\n",
            "[nltk_data]     /root/nltk_data...\n",
            "[nltk_data]   Unzipping taggers/averaged_perceptron_tagger.zip.\n"
          ]
        },
        {
          "output_type": "execute_result",
          "data": {
            "text/plain": [
              "True"
            ]
          },
          "metadata": {},
          "execution_count": 2
        }
      ],
      "source": [
        "import nltk\n",
        "nltk.download(\"punkt\")\n",
        "nltk.download(\"stopwords\")\n",
        "nltk.download(\"wordnet\")\n",
        "nltk.download(\"averaged_perceptron_tagger\")"
      ]
    },
    {
      "cell_type": "markdown",
      "source": [
        "Tokenization"
      ],
      "metadata": {
        "id": "YMMW8LZDGX6V"
      }
    },
    {
      "cell_type": "code",
      "source": [
        "from nltk import word_tokenize ,sent_tokenize"
      ],
      "metadata": {
        "id": "-59-HMEBGKcz"
      },
      "execution_count": 4,
      "outputs": []
    },
    {
      "cell_type": "code",
      "source": [
        "corpus = \"Sachin was the GOAT of the previous generation. Virat is the GOAT of this generation. Shubman will be the GOAT of the next generation\"\n"
      ],
      "metadata": {
        "id": "lqi4SSodGh36"
      },
      "execution_count": 5,
      "outputs": []
    },
    {
      "cell_type": "code",
      "source": [
        "print(word_tokenize(corpus))\n",
        "print(sent_tokenize(corpus))\n"
      ],
      "metadata": {
        "colab": {
          "base_uri": "https://localhost:8080/"
        },
        "id": "FOFUzSGYGsfC",
        "outputId": "01ee936b-a6f8-4e87-ed01-59372fabe6ed"
      },
      "execution_count": 8,
      "outputs": [
        {
          "output_type": "stream",
          "name": "stdout",
          "text": [
            "['Sachin', 'was', 'the', 'GOAT', 'of', 'the', 'previous', 'generation', '.', 'Virat', 'is', 'the', 'GOAT', 'of', 'this', 'generation', '.', 'Shubman', 'will', 'be', 'the', 'GOAT', 'of', 'the', 'next', 'generation']\n",
            "['Sachin was the GOAT of the previous generation.', 'Virat is the GOAT of this generation.', 'Shubman will be the GOAT of the next generation']\n"
          ]
        }
      ]
    },
    {
      "cell_type": "code",
      "source": [
        "print(sent_tokenize(corpus))"
      ],
      "metadata": {
        "colab": {
          "base_uri": "https://localhost:8080/"
        },
        "id": "y9t7flXJGyI9",
        "outputId": "deea79bd-80d1-40f3-9096-3556a95c4262"
      },
      "execution_count": 9,
      "outputs": [
        {
          "output_type": "stream",
          "name": "stdout",
          "text": [
            "['Sachin was the GOAT of the previous generation.', 'Virat is the GOAT of this generation.', 'Shubman will be the GOAT of the next generation']\n"
          ]
        }
      ]
    },
    {
      "cell_type": "markdown",
      "source": [
        "POS tagging"
      ],
      "metadata": {
        "id": "2ZlzMWwhG_K-"
      }
    },
    {
      "cell_type": "code",
      "source": [
        "from nltk import pos_tag"
      ],
      "metadata": {
        "id": "s_i6W5-YHBVx"
      },
      "execution_count": 10,
      "outputs": []
    },
    {
      "cell_type": "code",
      "source": [
        "tokens = word_tokenize(corpus)\n",
        "print(pos_tag(tokens))"
      ],
      "metadata": {
        "colab": {
          "base_uri": "https://localhost:8080/"
        },
        "id": "BtoOq-LTHFlK",
        "outputId": "6777074a-b125-4733-d263-d6665410479b"
      },
      "execution_count": 12,
      "outputs": [
        {
          "output_type": "stream",
          "name": "stdout",
          "text": [
            "[('Sachin', 'NNP'), ('was', 'VBD'), ('the', 'DT'), ('GOAT', 'NNP'), ('of', 'IN'), ('the', 'DT'), ('previous', 'JJ'), ('generation', 'NN'), ('.', '.'), ('Virat', 'NNP'), ('is', 'VBZ'), ('the', 'DT'), ('GOAT', 'NNP'), ('of', 'IN'), ('this', 'DT'), ('generation', 'NN'), ('.', '.'), ('Shubman', 'NNP'), ('will', 'MD'), ('be', 'VB'), ('the', 'DT'), ('GOAT', 'NNP'), ('of', 'IN'), ('the', 'DT'), ('next', 'JJ'), ('generation', 'NN')]\n"
          ]
        }
      ]
    },
    {
      "cell_type": "markdown",
      "source": [
        "Stop word removal"
      ],
      "metadata": {
        "id": "P1RTlsdfHXPR"
      }
    },
    {
      "cell_type": "code",
      "source": [
        "from nltk.corpus import stopwords\n",
        "stop_words = set(stopwords.words(\"english\"))"
      ],
      "metadata": {
        "id": "mt8O9tKQHPvA"
      },
      "execution_count": 13,
      "outputs": []
    },
    {
      "cell_type": "code",
      "source": [
        "tokens = word_tokenize(corpus)\n",
        "cleaned_tokens = []\n",
        "for token in tokens:\n",
        "  if (token not in stop_words):\n",
        "    cleaned_tokens.append(token)\n",
        "print(cleaned_tokens)"
      ],
      "metadata": {
        "colab": {
          "base_uri": "https://localhost:8080/"
        },
        "id": "c7ZvuhrgHe1D",
        "outputId": "ac34f7fc-eebe-4ddb-a458-418e0e591cdf"
      },
      "execution_count": 14,
      "outputs": [
        {
          "output_type": "stream",
          "name": "stdout",
          "text": [
            "['Sachin', 'GOAT', 'previous', 'generation', '.', 'Virat', 'GOAT', 'generation', '.', 'Shubman', 'GOAT', 'next', 'generation']\n"
          ]
        }
      ]
    },
    {
      "cell_type": "markdown",
      "source": [
        "Stemming"
      ],
      "metadata": {
        "id": "inGxu5HTHjIQ"
      }
    },
    {
      "cell_type": "code",
      "source": [
        "\n",
        "from nltk.stem import PorterStemmer"
      ],
      "metadata": {
        "id": "IqE3jGrMHhH_"
      },
      "execution_count": 15,
      "outputs": []
    },
    {
      "cell_type": "code",
      "source": [
        "\n",
        "stemmer = PorterStemmer()"
      ],
      "metadata": {
        "id": "4qjK5JNLHl4Y"
      },
      "execution_count": 16,
      "outputs": []
    },
    {
      "cell_type": "code",
      "source": [
        "\n",
        "stemmed_tokens = []\n",
        "for token in cleaned_tokens:\n",
        "  stemmed = stemmer.stem(token)\n",
        "  stemmed_tokens.append(stemmed)\n",
        "print(stemmed_tokens)"
      ],
      "metadata": {
        "colab": {
          "base_uri": "https://localhost:8080/"
        },
        "id": "NWTJzFLYHnhD",
        "outputId": "57ec0ee3-eabe-4409-e279-2f6efc7082f6"
      },
      "execution_count": 17,
      "outputs": [
        {
          "output_type": "stream",
          "name": "stdout",
          "text": [
            "['sachin', 'goat', 'previou', 'gener', '.', 'virat', 'goat', 'gener', '.', 'shubman', 'goat', 'next', 'gener']\n"
          ]
        }
      ]
    },
    {
      "cell_type": "markdown",
      "source": [
        "Lemmatization"
      ],
      "metadata": {
        "id": "h4byenqdHsBz"
      }
    },
    {
      "cell_type": "code",
      "source": [
        "from nltk.stem import WordNetLemmatizer\n"
      ],
      "metadata": {
        "id": "097A2Bq_HpKh"
      },
      "execution_count": 18,
      "outputs": []
    },
    {
      "cell_type": "code",
      "source": [
        "\n",
        "lemmatizer = WordNetLemmatizer()\n"
      ],
      "metadata": {
        "id": "oz6-oCwjHvYG"
      },
      "execution_count": 19,
      "outputs": []
    },
    {
      "cell_type": "code",
      "source": [
        "\n",
        "lemmatized_tokens = []\n",
        "for token in cleaned_tokens:\n",
        "  lemmatized = lemmatizer.lemmatize(token)\n",
        "  lemmatized_tokens.append(lemmatized)\n",
        "print(lemmatized_tokens)"
      ],
      "metadata": {
        "colab": {
          "base_uri": "https://localhost:8080/"
        },
        "id": "kiMKazG-Hxm5",
        "outputId": "2cb2ab24-9ddc-4d1a-9d7c-462205c06c42"
      },
      "execution_count": 20,
      "outputs": [
        {
          "output_type": "stream",
          "name": "stdout",
          "text": [
            "['Sachin', 'GOAT', 'previous', 'generation', '.', 'Virat', 'GOAT', 'generation', '.', 'Shubman', 'GOAT', 'next', 'generation']\n"
          ]
        }
      ]
    },
    {
      "cell_type": "markdown",
      "source": [
        "TF-IDF\n"
      ],
      "metadata": {
        "id": "IyTBpIxIH1Su"
      }
    },
    {
      "cell_type": "code",
      "source": [
        "from sklearn.feature_extraction.text import TfidfVectorizer\n"
      ],
      "metadata": {
        "id": "3jEqq4-dHzRh"
      },
      "execution_count": 21,
      "outputs": []
    },
    {
      "cell_type": "code",
      "source": [
        "\n",
        "corpus = [\n",
        "    \"Sachin was the GOAT of the previous generation\",\n",
        "    \"Dhoni is the GOAT of the this generation\",\n",
        "    \"Shubman will be the GOAT of the next generation\"\n",
        "]"
      ],
      "metadata": {
        "id": "L1B_Lb7XH1_-"
      },
      "execution_count": 23,
      "outputs": []
    },
    {
      "cell_type": "code",
      "source": [
        "\n",
        "vectorizer = TfidfVectorizer()\n",
        "     "
      ],
      "metadata": {
        "id": "gzhdAcSEH7PS"
      },
      "execution_count": 24,
      "outputs": []
    },
    {
      "cell_type": "code",
      "source": [
        "matrix = vectorizer.fit(corpus)\n",
        "matrix.vocabulary_"
      ],
      "metadata": {
        "colab": {
          "base_uri": "https://localhost:8080/"
        },
        "id": "rfasyDOYIAMy",
        "outputId": "0c17b0b1-a708-452f-af95-f87e7895a4c2"
      },
      "execution_count": 25,
      "outputs": [
        {
          "output_type": "execute_result",
          "data": {
            "text/plain": [
              "{'sachin': 8,\n",
              " 'was': 12,\n",
              " 'the': 10,\n",
              " 'goat': 3,\n",
              " 'of': 6,\n",
              " 'previous': 7,\n",
              " 'generation': 2,\n",
              " 'dhoni': 1,\n",
              " 'is': 4,\n",
              " 'this': 11,\n",
              " 'shubman': 9,\n",
              " 'will': 13,\n",
              " 'be': 0,\n",
              " 'next': 5}"
            ]
          },
          "metadata": {},
          "execution_count": 25
        }
      ]
    },
    {
      "cell_type": "code",
      "source": [
        "tfidf_matrix = vectorizer.transform(corpus)\n",
        "print(tfidf_matrix)\n",
        "     "
      ],
      "metadata": {
        "colab": {
          "base_uri": "https://localhost:8080/"
        },
        "id": "y3-RChlqICPg",
        "outputId": "1b8055a8-e798-4d30-949d-55b4967fe0d6"
      },
      "execution_count": 26,
      "outputs": [
        {
          "output_type": "stream",
          "name": "stdout",
          "text": [
            "  (0, 12)\t0.4286758743128819\n",
            "  (0, 10)\t0.5063657539459899\n",
            "  (0, 8)\t0.4286758743128819\n",
            "  (0, 7)\t0.4286758743128819\n",
            "  (0, 6)\t0.25318287697299496\n",
            "  (0, 3)\t0.25318287697299496\n",
            "  (0, 2)\t0.25318287697299496\n",
            "  (1, 11)\t0.4286758743128819\n",
            "  (1, 10)\t0.5063657539459899\n",
            "  (1, 6)\t0.25318287697299496\n",
            "  (1, 4)\t0.4286758743128819\n",
            "  (1, 3)\t0.25318287697299496\n",
            "  (1, 2)\t0.25318287697299496\n",
            "  (1, 1)\t0.4286758743128819\n",
            "  (2, 13)\t0.39400039808922477\n",
            "  (2, 10)\t0.4654059642457353\n",
            "  (2, 9)\t0.39400039808922477\n",
            "  (2, 6)\t0.23270298212286766\n",
            "  (2, 5)\t0.39400039808922477\n",
            "  (2, 3)\t0.23270298212286766\n",
            "  (2, 2)\t0.23270298212286766\n",
            "  (2, 0)\t0.39400039808922477\n"
          ]
        }
      ]
    },
    {
      "cell_type": "code",
      "source": [
        "\n",
        "print(vectorizer.get_feature_names_out())"
      ],
      "metadata": {
        "colab": {
          "base_uri": "https://localhost:8080/"
        },
        "id": "983Y6pcyIFcw",
        "outputId": "4963915c-e7cb-485c-9715-238f7f619e20"
      },
      "execution_count": 27,
      "outputs": [
        {
          "output_type": "stream",
          "name": "stdout",
          "text": [
            "['be' 'dhoni' 'generation' 'goat' 'is' 'next' 'of' 'previous' 'sachin'\n",
            " 'shubman' 'the' 'this' 'was' 'will']\n"
          ]
        }
      ]
    },
    {
      "cell_type": "code",
      "source": [],
      "metadata": {
        "id": "9CpGgpWDIHxE"
      },
      "execution_count": null,
      "outputs": []
    }
  ]
}